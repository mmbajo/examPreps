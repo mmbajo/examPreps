{
 "cells": [
  {
   "cell_type": "code",
   "execution_count": 1,
   "metadata": {},
   "outputs": [],
   "source": [
    "import numpy as np\n",
    "import matplotlib.pyplot as plt"
   ]
  },
  {
   "cell_type": "code",
   "execution_count": 35,
   "metadata": {},
   "outputs": [],
   "source": [
    "class Perceptron:\n",
    "    def __init__(self, data, epoch, bias = True):\n",
    "        self.data = data\n",
    "        self.epoch = epoch\n",
    "        self.theta = None\n",
    "        self.theta_0 = None\n",
    "        self.hasBias = bias\n",
    "        self.theta_hist = []\n",
    "    def train(self):\n",
    "        cache = []\n",
    "        X, y = self.data\n",
    "        n = X.shape[0]\n",
    "        theta = np.zeros([X.shape[1]])\n",
    "        theta_0 = 0\n",
    "        cache.append([np.copy(theta), theta_0])\n",
    "        for _ in range(self.epoch):\n",
    "            for i in range(n):\n",
    "                if y[i]*(np.inner(X[i, :], theta)) + theta_0 <= 0:\n",
    "                    theta += y[i]*X[i, :]\n",
    "                    if self.hasBias:\n",
    "                        theta_0 += y[i]\n",
    "                    cache.append([np.copy(theta), theta_0])\n",
    "        self.theta = theta\n",
    "        self.theta_0 = theta_0\n",
    "        self.theta_hist = cache\n",
    "        return theta, theta_0      "
   ]
  },
  {
   "cell_type": "code",
   "execution_count": 42,
   "metadata": {},
   "outputs": [
    {
     "data": {
      "text/plain": [
       "(array([-6.,  5.]), 0)"
      ]
     },
     "execution_count": 42,
     "metadata": {},
     "output_type": "execute_result"
    }
   ],
   "source": [
    "data = [np.array([[-1, -1], [1, 0], [-1, 10]]), np.array([1, -1, 1])]\n",
    "model = Perceptron(data, 10, bias = False)\n",
    "model.train()"
   ]
  },
  {
   "cell_type": "code",
   "execution_count": 43,
   "metadata": {},
   "outputs": [
    {
     "data": {
      "text/plain": [
       "[[array([0., 0.]), 0],\n",
       " [array([-1., -1.]), 0],\n",
       " [array([-2.,  9.]), 0],\n",
       " [array([-3.,  8.]), 0],\n",
       " [array([-4.,  7.]), 0],\n",
       " [array([-5.,  6.]), 0],\n",
       " [array([-6.,  5.]), 0]]"
      ]
     },
     "execution_count": 43,
     "metadata": {},
     "output_type": "execute_result"
    }
   ],
   "source": [
    "model.theta_hist"
   ]
  },
  {
   "cell_type": "code",
   "execution_count": null,
   "metadata": {},
   "outputs": [],
   "source": [
    "class SGD:\n",
    "    def __init__"
   ]
  }
 ],
 "metadata": {
  "kernelspec": {
   "display_name": "Python 3",
   "language": "python",
   "name": "python3"
  },
  "language_info": {
   "codemirror_mode": {
    "name": "ipython",
    "version": 3
   },
   "file_extension": ".py",
   "mimetype": "text/x-python",
   "name": "python",
   "nbconvert_exporter": "python",
   "pygments_lexer": "ipython3",
   "version": "3.7.5"
  }
 },
 "nbformat": 4,
 "nbformat_minor": 2
}
